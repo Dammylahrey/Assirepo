{
 "cells": [
  {
   "cell_type": "markdown",
   "id": "043148f0",
   "metadata": {},
   "source": [
    "# Data Science Tools and Ecosystem"
   ]
  },
  {
   "cell_type": "markdown",
   "id": "e8ae3321",
   "metadata": {},
   "source": [
    "## In this notebook, Data Science Tools and Ecosystem are summarized"
   ]
  },
  {
   "cell_type": "markdown",
   "id": "bf80994b",
   "metadata": {},
   "source": [
    "# Objectives\n",
    "* List popular languages for Data Science\n",
    "* List some of the Libraries Used by Data Science\n",
    "* Identify some open source tools used by a Data science\n",
    "* List the classes of machines leraning\n",
    "* know the uses of Github"
   ]
  },
  {
   "cell_type": "markdown",
   "id": "a4ca830f",
   "metadata": {},
   "source": [
    "### some of the popular Languages that Data Scientists use are:\n",
    "1. Python\n",
    "2. R language\n",
    "3. SQL\n",
    "4. Julia\n",
    "5. Scala\n"
   ]
  },
  {
   "cell_type": "markdown",
   "id": "66718f18",
   "metadata": {},
   "source": [
    "### Some of the commonly used libraries used by Data Scientists include:\n",
    "Ordered List\n",
    "1. Numpy\n",
    "2. Pandas\n",
    "3. Matplotlib\n",
    "4. Seaborn\n",
    "5. Scikit"
   ]
  },
  {
   "cell_type": "markdown",
   "id": "de929313",
   "metadata": {},
   "source": [
    "|Data Science Tools|\n",
    "|:----------------:|\n",
    "|Jupyter notebook  |\n",
    "|JupyterLab        |\n",
    "|KNIME             |\n"
   ]
  },
  {
   "cell_type": "markdown",
   "id": "a29d7a30",
   "metadata": {},
   "source": [
    "### Below are a few examples of evaluating arithmetic expressions in Python:\n",
    "\n"
   ]
  },
  {
   "cell_type": "code",
   "execution_count": 2,
   "id": "7f39b1d2",
   "metadata": {},
   "outputs": [
    {
     "data": {
      "text/plain": [
       "17"
      ]
     },
     "execution_count": 2,
     "metadata": {},
     "output_type": "execute_result"
    }
   ],
   "source": [
    "# This is a simple arithmetic expression to multiply to multiply then add integers \n",
    "(3*4)+5"
   ]
  },
  {
   "cell_type": "code",
   "execution_count": 4,
   "id": "7011ca4d",
   "metadata": {},
   "outputs": [
    {
     "name": "stdout",
     "output_type": "stream",
     "text": [
      "Enter a minutes:--> 200\n",
      "Hour : Minute :--->  3  :  20\n"
     ]
    }
   ],
   "source": [
    "# This will convert 200 minutes to hours by dividing by 60\n",
    "min= int(input(\"Enter a minutes:--> \"))\n",
    "print(\"Hour : Minute :---> \", int(min/60), \" : \", min % 60)\n"
   ]
  },
  {
   "cell_type": "markdown",
   "id": "e576dc1a",
   "metadata": {},
   "source": [
    "## Author\n",
    "Lugard Damilola"
   ]
  },
  {
   "cell_type": "code",
   "execution_count": null,
   "id": "c38b28b2",
   "metadata": {},
   "outputs": [],
   "source": []
  }
 ],
 "metadata": {
  "kernelspec": {
   "display_name": "Python 3 (ipykernel)",
   "language": "python",
   "name": "python3"
  },
  "language_info": {
   "codemirror_mode": {
    "name": "ipython",
    "version": 3
   },
   "file_extension": ".py",
   "mimetype": "text/x-python",
   "name": "python",
   "nbconvert_exporter": "python",
   "pygments_lexer": "ipython3",
   "version": "3.11.1"
  }
 },
 "nbformat": 4,
 "nbformat_minor": 5
}
