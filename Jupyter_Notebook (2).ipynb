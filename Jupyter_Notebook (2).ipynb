{
 "cells": [
  {
   "cell_type": "markdown",
   "id": "a5d5e251-703b-48aa-b316-3bd295c091cd",
   "metadata": {},
   "source": [
    "# My Jupyter Notebook on IBM Watson Studio"
   ]
  },
  {
   "cell_type": "markdown",
   "id": "b78b8eb3-2d32-469c-80c8-2dcb82ee5cc7",
   "metadata": {},
   "source": [
    "# Lugard Damilola\n",
    "\n",
    "Data Analyst(Desired)"
   ]
  },
  {
   "cell_type": "markdown",
   "id": "6fceaf92-ee24-449e-8710-4ea9da6f9080",
   "metadata": {},
   "source": [
    "*I am interested in data science because I love analysing data*"
   ]
  },
  {
   "cell_type": "markdown",
   "id": "c668d1b9-fb1d-4ce2-8d85-90133dd3c2eb",
   "metadata": {},
   "source": [
    "### The following code will do some simple addition in mathematics"
   ]
  },
  {
   "cell_type": "code",
   "execution_count": 1,
   "id": "c0946dbe-e948-4c12-8179-cc103a47dec0",
   "metadata": {},
   "outputs": [
    {
     "name": "stdout",
     "output_type": "stream",
     "text": [
      "20\n"
     ]
    }
   ],
   "source": [
    "a= 15\n",
    "b= 5\n",
    "c= a + b\n",
    "print(c)"
   ]
  },
  {
   "cell_type": "markdown",
   "id": "35d4f66c-5d36-4a8d-83e3-1460c2e2771e",
   "metadata": {},
   "source": [
    "|Name   |Gender  |school  |\n",
    "|-------|:------:|-------:|\n",
    "|Dami   |Male    |IHS     |\n",
    "|Anu    |Female  |ICHS    |\n",
    "|Gboli  |Male    |OCHS    |\n",
    "\n",
    "---\n",
    "\n",
    "[htpp://www.IBM.com]\n"
   ]
  }
 ],
 "metadata": {
  "kernelspec": {
   "display_name": "Python",
   "language": "python",
   "name": "conda-env-python-py"
  },
  "language_info": {
   "codemirror_mode": {
    "name": "ipython",
    "version": 3
   },
   "file_extension": ".py",
   "mimetype": "text/x-python",
   "name": "python",
   "nbconvert_exporter": "python",
   "pygments_lexer": "ipython3",
   "version": "3.7.12"
  }
 },
 "nbformat": 4,
 "nbformat_minor": 5
}
